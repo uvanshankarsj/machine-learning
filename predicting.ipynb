{
  "nbformat": 4,
  "nbformat_minor": 0,
  "metadata": {
    "colab": {
      "provenance": [],
      "collapsed_sections": [],
      "authorship_tag": "ABX9TyPtw1RVM5O5vWekia0q7Txw",
      "include_colab_link": true
    },
    "kernelspec": {
      "name": "python3",
      "display_name": "Python 3"
    },
    "language_info": {
      "name": "python"
    }
  },
  "cells": [
    {
      "cell_type": "markdown",
      "metadata": {
        "id": "view-in-github",
        "colab_type": "text"
      },
      "source": [
        "<a href=\"https://colab.research.google.com/github/uvanshankarsj/machine-learning/blob/main/predicting.ipynb\" target=\"_parent\"><img src=\"https://colab.research.google.com/assets/colab-badge.svg\" alt=\"Open In Colab\"/></a>"
      ]
    },
    {
      "cell_type": "code",
      "execution_count": 37,
      "metadata": {
        "colab": {
          "base_uri": "https://localhost:8080/",
          "height": 334
        },
        "id": "ODyFWAoZYzDB",
        "outputId": "ffe67bba-499c-4c11-c061-00d666bf6494"
      },
      "outputs": [
        {
          "output_type": "stream",
          "name": "stdout",
          "text": [
            "sq.root    int64\n",
            "price      int64\n",
            "dtype: object\n"
          ]
        },
        {
          "output_type": "execute_result",
          "data": {
            "text/plain": [
              "LinearRegression()"
            ]
          },
          "metadata": {},
          "execution_count": 37
        },
        {
          "output_type": "display_data",
          "data": {
            "text/plain": [
              "<Figure size 432x288 with 1 Axes>"
            ],
            "image/png": "[encoded data removed]"
          },
          "metadata": {
            "needs_background": "light"
          }
        }
      ],
      "source": [
        "import numpy as np\n",
        "import pandas as pd\n",
        "import matplotlib.pyplot as plt\n",
        "from sklearn import linear_model\n",
        "\n",
        "data=pd.read_csv(\"machine learning.csv\")\n",
        "print(data.dtypes)\n",
        "\n",
        "\n",
        "a=plt.scatter(data[\"sq.root\"],data[\"price\"])\n",
        "reg = linear_model.LinearRegression()\n",
        "reg.fit(data[[\"sq.root\"]],data.price)\n",
        "\n"
      ]
    },
    {
      "cell_type": "code",
      "source": [
        "print(reg.coef_)\n",
        "print(reg.intercept_)\n",
        "guessed=pd.DataFrame({\"sq.root\":[123,432,234,23312]})\n",
        "p=reg.predict(guessed)\n",
        "guessed[\"price\"]=p\n",
        "guessed.to_csv(\"prediction.csv\")\n",
        "b=plt.plot(guessed[\"sq.root\"],guessed[\"price\"])\n",
        "a=plt.scatter(data[\"sq.root\"],data[\"price\"])\n"
      ],
      "metadata": {
        "colab": {
          "base_uri": "https://localhost:8080/",
          "height": 300
        },
        "id": "h1F5rmzUJIjp",
        "outputId": "5ca8ffed-1627-497b-9180-f009699f36a7"
      },
      "execution_count": 39,
      "outputs": [
        {
          "output_type": "stream",
          "name": "stdout",
          "text": [
            "[0.27046137]\n",
            "7729.4051950745825\n"
          ]
        },
        {
          "output_type": "display_data",
          "data": {
            "text/plain": [
              "<Figure size 432x288 with 1 Axes>"
            ],
            "image/png": "[encoded data removed]"
          },
          "metadata": {
            "needs_background": "light"
          }
        }
      ]
    },
    {
      "cell_type": "code",
      "source": [
        "data=pd.read_csv(\"https://raw.githubusercontent.com/ywchiu/riii/master/data/house-prices.csv\")\n",
        "wq=data.drop(['Bathrooms','Offers','Brick','Neighborhood'],axis=1)\n",
        "print(wq)\n",
        "# data.isna().sum()\n",
        "reg.fit(data[['Bedrooms','SqFt']],wq.Price)\n",
        "reg.predict([[4,2030]])"
      ],
      "metadata": {
        "colab": {
          "base_uri": "https://localhost:8080/"
        },
        "id": "gsOKtUm4gO-3",
        "outputId": "1dc1dc9f-0fec-4af1-a10c-ec5cdb059fe6"
      },
      "execution_count": 66,
      "outputs": [
        {
          "output_type": "stream",
          "name": "stdout",
          "text": [
            "     Home   Price  SqFt  Bedrooms\n",
            "0       1  114300  1790         2\n",
            "1       2  114200  2030         4\n",
            "2       3  114800  1740         3\n",
            "3       4   94700  1980         3\n",
            "4       5  119800  2130         3\n",
            "..    ...     ...   ...       ...\n",
            "123   124  119700  1900         3\n",
            "124   125  147900  2160         4\n",
            "125   126  113500  2070         2\n",
            "126   127  149900  2020         3\n",
            "127   128  124600  2250         3\n",
            "\n",
            "[128 rows x 4 columns]\n"
          ]
        },
        {
          "output_type": "stream",
          "name": "stderr",
          "text": [
            "/usr/local/lib/python3.7/dist-packages/sklearn/base.py:451: UserWarning: X does not have valid feature names, but LinearRegression was fitted with feature names\n",
            "  \"X does not have valid feature names, but\"\n"
          ]
        },
        {
          "output_type": "execute_result",
          "data": {
            "text/plain": [
              "array([144059.32018322])"
            ]
          },
          "metadata": {},
          "execution_count": 66
        }
      ]
    }
  ]
}