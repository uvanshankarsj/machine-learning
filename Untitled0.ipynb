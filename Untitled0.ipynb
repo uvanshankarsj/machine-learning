{
  "nbformat": 4,
  "nbformat_minor": 0,
  "metadata": {
    "colab": {
      "provenance": [],
      "collapsed_sections": [],
      "authorship_tag": "ABX9TyPC8cPXcL2Ux6uvX0jAXHkZ",
      "include_colab_link": true
    },
    "kernelspec": {
      "name": "python3",
      "display_name": "Python 3"
    },
    "language_info": {
      "name": "python"
    }
  },
  "cells": [
    {
      "cell_type": "markdown",
      "metadata": {
        "id": "view-in-github",
        "colab_type": "text"
      },
      "source": [
        "<a href=\"https://colab.research.google.com/github/uvanshankarsj/machine-learning/blob/main/Untitled0.ipynb\" target=\"_parent\"><img src=\"https://colab.research.google.com/assets/colab-badge.svg\" alt=\"Open In Colab\"/></a>"
      ]
    },
    {
      "cell_type": "code",
      "execution_count": 13,
      "metadata": {
        "id": "ZU1MumCbQMWM",
        "colab": {
          "base_uri": "https://localhost:8080/"
        },
        "outputId": "41584fac-5b16-4b20-df0a-4bd30f8899cb"
      },
      "outputs": [
        {
          "output_type": "stream",
          "name": "stdout",
          "text": [
            "a     int64\n",
            "b    string\n",
            "dtype: object\n",
            "   a    b\n",
            "0  0  foo\n",
            "1  1  foo\n",
            "2  2  foo\n",
            "3  3  foo\n",
            "4  4  foo\n"
          ]
        }
      ],
      "source": [
        "import numpy as a\n",
        "import pandas as p\n",
        "# def mul():\n",
        "#   print(a*b)\n",
        "# a=int(2)\n",
        "# b=int(3)\n",
        "# mul()\n",
        "# f={\"name\":\"uvan\",\"age\":12}\n",
        "# print(f[\"name\"])\n",
        "# q=open(\"testing.txt\",\"w+\")\n",
        "# q.write(\"hi i am uvanshankar\")\n",
        "# q.close()\n",
        "# e=open(\"testing.txt\",\"r\")\n",
        "# print(e.read())\n",
        "# e.close()\n",
        "# b=a.array([[1,2,4],[2,3,5]])\n",
        "# c=b[:1,:1]\n",
        "# print(b)\n",
        "# print(c)\n",
        "# print(a.multiply(b,b))\n",
        "\n",
        "k=p.DataFrame({'a':range(0,5),'b':p.Series(\"foo\",index=list(range(5)),dtype='string')})\n",
        "print(k.dtypes)\n",
        "print(k)"
      ]
    }
  ]
}