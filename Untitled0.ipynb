{
  "nbformat": 4,
  "nbformat_minor": 0,
  "metadata": {
    "colab": {
      "provenance": [],
      "authorship_tag": "ABX9TyMfsL1uLbSXBpNOkN2capAF",
      "include_colab_link": true
    },
    "kernelspec": {
      "name": "python3",
      "display_name": "Python 3"
    },
    "language_info": {
      "name": "python"
    }
  },
  "cells": [
    {
      "cell_type": "markdown",
      "metadata": {
        "id": "view-in-github",
        "colab_type": "text"
      },
      "source": [
        "<a href=\"https://colab.research.google.com/github/uvanshankarsj/machine-learning/blob/main/Untitled0.ipynb\" target=\"_parent\"><img src=\"https://colab.research.google.com/assets/colab-badge.svg\" alt=\"Open In Colab\"/></a>"
      ]
    },
    {
      "cell_type": "code",
      "execution_count": null,
      "metadata": {
        "id": "ZU1MumCbQMWM"
      },
      "outputs": [],
      "source": [
        "def mul():\n",
        "  print(a*b)\n",
        "a=int(2)\n",
        "b=int(3)\n",
        "mul()\n",
        "f={\"name\":\"uvan\",\"age\":12}\n",
        "print(f[\"name\"])\n",
        "q=open(\"testing.txt\",\"w+\")\n",
        "q.write(\"hi i am uvanshankar\")\n",
        "q.close()\n",
        "e=open(\"testing.txt\",\"r\")\n",
        "print(e.read())\n",
        "e.close()"
      ]
    }
  ]
}