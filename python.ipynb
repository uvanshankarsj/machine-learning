{
  "nbformat": 4,
  "nbformat_minor": 0,
  "metadata": {
    "colab": {
      "provenance": [],
      "collapsed_sections": [],
      "authorship_tag": "ABX9TyOsg5Ds61lglAoYTbMpXhGU",
      "include_colab_link": true
    },
    "kernelspec": {
      "name": "python3",
      "display_name": "Python 3"
    },
    "language_info": {
      "name": "python"
    }
  },
  "cells": [
    {
      "cell_type": "markdown",
      "metadata": {
        "id": "view-in-github",
        "colab_type": "text"
      },
      "source": [
        "<a href=\"https://colab.research.google.com/github/uvanshankarsj/machine-learning/blob/main/python.ipynb\" target=\"_parent\"><img src=\"https://colab.research.google.com/assets/colab-badge.svg\" alt=\"Open In Colab\"/></a>"
      ]
    },
    {
      "cell_type": "code",
      "metadata": {
        "colab": {
          "base_uri": "https://localhost:8080/"
        },
        "id": "hXL2468szpjM",
        "outputId": "b8ba07b5-5a11-4031-bb33-4e7ad04042d4"
      },
      "source": [
        "def maxSubArraySum(a,size):\n",
        "     \n",
        "    max_so_far = a[0]\n",
        "    max_ending_here = 0\n",
        "     \n",
        "    for i in range(0, size):\n",
        "        max_ending_here = max_ending_here + a[i]\n",
        "        if max_ending_here < 0:\n",
        "            max_ending_here = 0\n",
        "         \n",
        "        # Do not compare for all elements. Compare only  \n",
        "        # when  max_ending_here > 0\n",
        "        elif (max_so_far < max_ending_here):\n",
        "            max_so_far = max_ending_here\n",
        "             \n",
        "    return max_so_far\n",
        "sum = 0;\n",
        "str = 'RRKK'; a= []\n",
        "for i in str:\n",
        "    if i =='R':\n",
        "        a.append(-1); sum+=1;\n",
        "    else:\n",
        "        a.append(1);\n",
        "sum=sum+maxSubArraySum(a,len(a))\n",
        "print(sum)"
      ],
      "execution_count": 1,
      "outputs": [
        {
          "output_type": "stream",
          "name": "stdout",
          "text": [
            "4\n"
          ]
        }
      ]
    },
    {
      "cell_type": "code",
      "source": [
        "def mul():\n",
        "  print(a*b)\n",
        "a=int(2)\n",
        "b=int(3)\n",
        "mul()\n",
        "f={\"name\":\"uvan\",\"age\":12}\n",
        "print(f[\"name\"])\n",
        "\n",
        "\n",
        "  \n"
      ],
      "metadata": {
        "colab": {
          "base_uri": "https://localhost:8080/"
        },
        "id": "vUvMHprMgtt5",
        "outputId": "b72d2247-ed95-4f6b-8d4b-aef844f26279"
      },
      "execution_count": 6,
      "outputs": [
        {
          "output_type": "stream",
          "name": "stdout",
          "text": [
            "6\n",
            "uvan\n"
          ]
        }
      ]
    },
    {
      "cell_type": "code",
      "source": [
        "import numpy as np\n",
        "import math\n",
        "import matplotlib.pyplot as plt\n",
        "\n",
        "t  = np.linspace(0,10,21)\n",
        "y=[]\n",
        "for i in t:\n",
        "  y.append(2.01*math.sin(0.992*i + 0.541))\n",
        "y = np.array(y).reshape((len(t),1))\n",
        "\n",
        "def jac(a,w,phi,t):\n",
        "  j = np.zeros((21,3))\n",
        "  for l in range(21):\n",
        "      j[l,0] = -math.sin(w*t[l]+phi)\n",
        "      j[l,1] = -t[l]*a*math.cos(w*t[l]+phi)\n",
        "      j[l,2] = -a*math.cos(w*t[l]+phi)\n",
        "  return j\n",
        "x = np.array([2.5,1,0.7])\n",
        "x = x.reshape((3,1))\n",
        "def asin(a,w,phi,t):\n",
        "  y = []\n",
        "  for i in t:\n",
        "    y.append(a*math.sin(w*i + phi))\n",
        "  return np.array(y).reshape((len(t),1))\n",
        "iter = 1                                                                                                                                                                                   \n",
        "\n",
        "print(x)\n",
        "for i in range(iter):\n",
        "  j = jac(x[0],x[1],x[2],t)\n",
        "  x = x - np.linalg.inv(np.transpose(j) @ j) @ np.transpose(j) @ (y - asin(x[0],x[1],x[2],t))\n",
        "print(x)"
      ],
      "metadata": {
        "colab": {
          "base_uri": "https://localhost:8080/"
        },
        "id": "2SVPP5NCv1u_",
        "outputId": "a126dd58-105d-4cd9-8a70-958fb52d30a1"
      },
      "execution_count": null,
      "outputs": [
        {
          "output_type": "stream",
          "name": "stdout",
          "text": [
            "[[2.5]\n",
            " [1. ]\n",
            " [0.7]]\n",
            "[[1.97041275]\n",
            " [0.99332285]\n",
            " [0.57438776]]\n"
          ]
        }
      ]
    }
  ]
}